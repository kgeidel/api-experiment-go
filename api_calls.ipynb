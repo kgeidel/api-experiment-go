{
 "cells": [
  {
   "cell_type": "code",
   "execution_count": 14,
   "metadata": {},
   "outputs": [
    {
     "name": "stdout",
     "output_type": "stream",
     "text": [
      "[{'available_flag': True,\n",
      "  'description': 'Made by Google but works with Graphene OS',\n",
      "  'id': 1,\n",
      "  'name': 'Pixel',\n",
      "  'price': 399.99}]\n"
     ]
    }
   ],
   "source": [
    "# MSDS 434 - Section 55\n",
    "# Winter '25\n",
    "# Module 7 - Containerized API Demo\n",
    "\n",
    "# Kevin Geidel\n",
    "\n",
    "import requests, os, json\n",
    "from pprint import pprint\n",
    "\n",
    "api_host = 'http://localhost:8000'\n",
    "\n",
    "r = requests.get(f'{api_host}')\n",
    "\n",
    "pprint(json.loads(r.content))\n"
   ]
  },
  {
   "cell_type": "code",
   "execution_count": 13,
   "metadata": {},
   "outputs": [
    {
     "name": "stdout",
     "output_type": "stream",
     "text": [
      "b'Added new product [id: 1]'\n"
     ]
    }
   ],
   "source": [
    "data = {\n",
    "    'name': 'Pixel', \n",
    "    'description': 'Made by Google but works with Graphene OS',\n",
    "    'price': 399.99,\n",
    "    'available_flag': True\n",
    "}\n",
    "\n",
    "r = requests.post(f'{api_host}', json=data,)\n",
    "\n",
    "pprint(r.content)"
   ]
  }
 ],
 "metadata": {
  "kernelspec": {
   "display_name": "msds434",
   "language": "python",
   "name": "python3"
  },
  "language_info": {
   "codemirror_mode": {
    "name": "ipython",
    "version": 3
   },
   "file_extension": ".py",
   "mimetype": "text/x-python",
   "name": "python",
   "nbconvert_exporter": "python",
   "pygments_lexer": "ipython3",
   "version": "3.12.6"
  }
 },
 "nbformat": 4,
 "nbformat_minor": 2
}
